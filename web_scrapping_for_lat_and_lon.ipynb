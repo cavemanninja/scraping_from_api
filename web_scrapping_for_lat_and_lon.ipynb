{
  "nbformat": 4,
  "nbformat_minor": 0,
  "metadata": {
    "colab": {
      "name": "web_scrapping_for_lat_and_lon.ipynb",
      "provenance": []
    },
    "kernelspec": {
      "name": "python3",
      "display_name": "Python 3"
    }
  },
  "cells": [
    {
      "cell_type": "markdown",
      "metadata": {
        "id": "4_kiSJmhvoJJ",
        "colab_type": "text"
      },
      "source": [
        "First we create the connection to our mysql server. For that, let's install mysql-connector for this matter."
      ]
    },
    {
      "cell_type": "code",
      "metadata": {
        "id": "t0JEPNTFwaVE",
        "colab_type": "code",
        "colab": {}
      },
      "source": [
        "!pip install mysql-connector"
      ],
      "execution_count": 0,
      "outputs": []
    },
    {
      "cell_type": "markdown",
      "metadata": {
        "id": "wuPSjqUZw2Uc",
        "colab_type": "text"
      },
      "source": [
        "Once done, we can proceed importing the library for our use."
      ]
    },
    {
      "cell_type": "code",
      "metadata": {
        "id": "SsEDjjxTbnu2",
        "colab_type": "code",
        "colab": {}
      },
      "source": [
        "import mysql.connector\n",
        "from mysql.connector import Error"
      ],
      "execution_count": 0,
      "outputs": []
    },
    {
      "cell_type": "markdown",
      "metadata": {
        "id": "sKvR1OMgvicQ",
        "colab_type": "text"
      },
      "source": [
        "Next step is to create a function we will use to create the connection to our server."
      ]
    },
    {
      "cell_type": "code",
      "metadata": {
        "id": "yI5djpwpsjcY",
        "colab_type": "code",
        "colab": {}
      },
      "source": [
        "def connect():\n",
        "    try:\n",
        "        conn = mysql.connector.connect(host='your_host',\n",
        "                                       port='your_port',\n",
        "                                       database='your_db',\n",
        "                                       user='your_user',\n",
        "                                       password='your_password' )\n",
        "        if conn.is_connected():\n",
        "            print('Connected to MySQL database')\n",
        "            return conn\n",
        "\n",
        "    except Error as e:\n",
        "        print(e)\n"
      ],
      "execution_count": 0,
      "outputs": []
    },
    {
      "cell_type": "markdown",
      "metadata": {
        "id": "hns1-W9txd2f",
        "colab_type": "text"
      },
      "source": [
        "Now that our connection is set and ready to be used, we will proceed calling our function and running our query to select the ips we want the latitude and longitud for."
      ]
    },
    {
      "cell_type": "code",
      "metadata": {
        "id": "JZuJHgXwzRik",
        "colab_type": "code",
        "colab": {}
      },
      "source": [
        "connection = connect()\n",
        "\n",
        "cursor = connection.cursor(buffered=True)\n",
        "\n",
        "sql_select_ip = \"\"\"\n",
        "                    your_query_here\n",
        "                \"\"\"\n",
        "\n",
        "cursor.execute(sql_select_ip)\n",
        "assert isinstance(cursor.fetchall, object)"
      ],
      "execution_count": 0,
      "outputs": []
    },
    {
      "cell_type": "markdown",
      "metadata": {
        "id": "LW8Quz8T368b",
        "colab_type": "text"
      },
      "source": [
        "You may ask yourself what do we do now with  the data queried above. Why don't we just put it into a good old pandas' dataframe?"
      ]
    },
    {
      "cell_type": "code",
      "metadata": {
        "id": "R6CZ10-DEAMR",
        "colab_type": "code",
        "colab": {}
      },
      "source": [
        "!pip install pandas"
      ],
      "execution_count": 0,
      "outputs": []
    },
    {
      "cell_type": "code",
      "metadata": {
        "id": "9zSqs5Vn4NmE",
        "colab_type": "code",
        "colab": {}
      },
      "source": [
        "import pandas as pd\n",
        "\n",
        "df = pd.read_sql_query(sql_select_ip, connection)"
      ],
      "execution_count": 0,
      "outputs": []
    },
    {
      "cell_type": "markdown",
      "metadata": {
        "id": "AxJ8pdDW4Zlq",
        "colab_type": "text"
      },
      "source": [
        "To continue we will create a field in the dataframe which we will use for our call the website where we will get the results from.\n",
        "This website will be http://ip-api.com. This website allows us to choose between a nice amount of data related to our ip. To choose we can go to https://ip-api.com/docs/api:json and check the data needed. They will then provide us with a url that we can set up to create our calls.\n",
        "\n",
        "We will use the following:\n",
        "\n",
        "```\n",
        "'http://ip-api.com/json/' + ip + '?fields=status,city,lat,lon'\n",
        "```\n",
        "\n",
        "\n"
      ]
    },
    {
      "cell_type": "code",
      "metadata": {
        "id": "_NSljiiw5KbT",
        "colab_type": "code",
        "colab": {}
      },
      "source": [
        "df['ip_api'] = ['http://ip-api.com/json/' + i for i in df['ipclient'] + '?fields=status,city,lat,lon']"
      ],
      "execution_count": 0,
      "outputs": []
    },
    {
      "cell_type": "markdown",
      "metadata": {
        "id": "BrDMuz0C5LKS",
        "colab_type": "text"
      },
      "source": [
        "This website will provide a JSON with the answer to our request. With this JSON we will populate a list previously set as empty to make sure no data is inside.\n",
        "\n",
        "Also, let's set a counter to 0 for the next step."
      ]
    },
    {
      "cell_type": "code",
      "metadata": {
        "id": "oJgVw-xi-E4t",
        "colab_type": "code",
        "colab": {}
      },
      "source": [
        "json_ip = []\n",
        "\n",
        "count_i = 0 "
      ],
      "execution_count": 0,
      "outputs": []
    },
    {
      "cell_type": "markdown",
      "metadata": {
        "id": "f9HG-A3X-G2J",
        "colab_type": "text"
      },
      "source": [
        "With all set we just need to create a loop where the calls to the website will be made from. For it we need a couple of libraries: tqdm and requests.\n",
        "\n",
        "**tqdm** is not essential to the result, but gives us a way to know the progress of the loop so we make sure it is actually running.\n",
        "\n",
        "**requests** is indeed the essential part of the loop. It will call the website via api and retrieve the JSON required by us.\n",
        "\n",
        "There is an inconvenient with ip_api.com. For the free use of it, they only allow us to make 45 calls per minute, it is a bit crappy but understandable, in this capitalized world, most of us want (need) to monetize in some way our products.\n",
        "\n",
        "Now we now what do we use the counter for. Each call, the counter will sum up 1, and if we reach 40 we will wait 60 seconds. Easy."
      ]
    },
    {
      "cell_type": "code",
      "metadata": {
        "id": "F7cRTDt0D1gu",
        "colab_type": "code",
        "colab": {}
      },
      "source": [
        "!pip install tqdm\n",
        "!pip install requests\n",
        "!pip install time"
      ],
      "execution_count": 0,
      "outputs": []
    },
    {
      "cell_type": "code",
      "metadata": {
        "id": "060bFIukszrf",
        "colab_type": "code",
        "colab": {}
      },
      "source": [
        "import tqdm\n",
        "import requests\n",
        "import time\n",
        "\n",
        "for url in tqdm(df.ip_api, leave=False):\n",
        "    request = requests.get(url)\n",
        "    json_ip.append(request.content)\n",
        "    count_i += 1\n",
        "    if count_i == 40:\n",
        "        time.sleep(60)\n",
        "        count_i = 0"
      ],
      "execution_count": 0,
      "outputs": []
    },
    {
      "cell_type": "markdown",
      "metadata": {
        "id": "9AYw8nVGB-4h",
        "colab_type": "text"
      },
      "source": [
        "Now that we have everything we need, we can store the resulting data in a csv in case we have some issue and we want to study it."
      ]
    },
    {
      "cell_type": "code",
      "metadata": {
        "id": "g2Cm3oGDF2jR",
        "colab_type": "code",
        "colab": {}
      },
      "source": [
        "!pip install csv"
      ],
      "execution_count": 0,
      "outputs": []
    },
    {
      "cell_type": "code",
      "metadata": {
        "id": "KKKAPc-GCAR2",
        "colab_type": "code",
        "colab": {}
      },
      "source": [
        "import csv\n",
        "\n",
        "with open('json_ip.csv', 'w') as file:\n",
        "    wr = csv.writer(file)\n",
        "    wr.writerow(json_ip)\n",
        "\n",
        "with open('json_ip.csv', 'r') as f:\n",
        "    reader = csv.reader(f, delimiter=',')\n",
        "    for i in reader:\n",
        "        json_ip = i\n",
        "        break"
      ],
      "execution_count": 0,
      "outputs": []
    },
    {
      "cell_type": "markdown",
      "metadata": {
        "id": "8N8IK81rGDHw",
        "colab_type": "text"
      },
      "source": [
        "Let's now put all our data together creating a column in our dataframe to fill with the json's resulting of above."
      ]
    },
    {
      "cell_type": "code",
      "metadata": {
        "id": "iIcthOFgGC7B",
        "colab_type": "code",
        "colab": {}
      },
      "source": [
        "df['json_ip'] = json_ip"
      ],
      "execution_count": 0,
      "outputs": []
    },
    {
      "cell_type": "markdown",
      "metadata": {
        "id": "KaN_igp6Gs5A",
        "colab_type": "text"
      },
      "source": [
        "We are almost there. \n",
        "\n",
        "We now do some good use of pandas and python's good list comprehension. What we want now is to extract the data needed from the JSON file, and with some splitting we can get a great result. We need to make sure we store the results in our dataframe. For this case, we just want the latitude, longitud and the city of the ips we have."
      ]
    },
    {
      "cell_type": "code",
      "metadata": {
        "id": "SYLRS2FPGtMv",
        "colab_type": "code",
        "colab": {}
      },
      "source": [
        "df['city'] = [result_ip.split('\"city\":\"')[1].split('\",\"lat\"')[0] for result_ip in df['json_ip']]\n",
        "df['lat'] = [float(result_ip.split(',\"lat\":')[1].split(',\"lon\":')[0]) for result_ip in df['json_ip']]\n",
        "df['lon'] = [float(result_ip.split(',\"lon\":')[1].split(\"}'\")[0]) for result_ip in df['json_ip']]"
      ],
      "execution_count": 0,
      "outputs": []
    },
    {
      "cell_type": "markdown",
      "metadata": {
        "id": "trBXasqpH-T7",
        "colab_type": "text"
      },
      "source": [
        "All we are missing right now is how and where we storage our resulting data frame.\n",
        "\n",
        "How: we don't need all the columns created along the exercise, so we do some slicing having a more compact and readable dataframe.\n",
        "\n",
        "Where: with a simple csv in a folder so we can manipulate if needed."
      ]
    },
    {
      "cell_type": "code",
      "metadata": {
        "id": "rtjcASbwH-cA",
        "colab_type": "code",
        "colab": {}
      },
      "source": [
        "df = df[['ipclient', 'city', 'lat', 'lon']]\n",
        "\n",
        "df.to_csv('your_file.csv', header=True, sep=';', encoding='utf-8') #make sure you end the files name with .csv"
      ],
      "execution_count": 0,
      "outputs": []
    }
  ]
}
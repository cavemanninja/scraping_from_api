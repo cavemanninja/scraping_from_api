{
 "cells": [
  {
   "cell_type": "markdown",
   "metadata": {},
   "source": [
    "Lately I have been working with Python to sort out raising issues at work. One of this issues made me look for solutions for weeks until something come into my hands, a script in Python able to do the work I needed in 1/3 of the time I was using for this issue.\n",
    "\n",
    "Before we get to work, just some notes.\n",
    "\n",
    "Consider that my data is in a MySQL database, meaning that I will need to retrieve using a particular connector. If your case is different, just go to the good old Google and look for the best way to connect to your db server.\n",
    "\n",
    "If on the other hand, your dataset is in a csv, use Pandas following this simple tutorial:\n",
    "\n",
    "https://datatofish.com/import-csv-file-python-using-pandas/"
   ]
  },
  {
   "cell_type": "markdown",
   "metadata": {
    "colab_type": "text",
    "id": "4_kiSJmhvoJJ"
   },
   "source": [
    "Nothing is any good unless it results in action, so let's do this.\n",
    "\n",
    "First we create the connection to our mysql server. For that, let's install mysql-connector for this matter."
   ]
  },
  {
   "cell_type": "code",
   "execution_count": 0,
   "metadata": {
    "colab": {},
    "colab_type": "code",
    "id": "t0JEPNTFwaVE"
   },
   "outputs": [],
   "source": [
    "!pip install mysql-connector"
   ]
  },
  {
   "cell_type": "markdown",
   "metadata": {
    "colab_type": "text",
    "id": "wuPSjqUZw2Uc"
   },
   "source": [
    "Once done, we can proceed importing the library for our use."
   ]
  },
  {
   "cell_type": "code",
   "execution_count": 0,
   "metadata": {
    "colab": {},
    "colab_type": "code",
    "id": "SsEDjjxTbnu2"
   },
   "outputs": [],
   "source": [
    "import mysql.connector\n",
    "from mysql.connector import Error"
   ]
  },
  {
   "cell_type": "markdown",
   "metadata": {
    "colab_type": "text",
    "id": "sKvR1OMgvicQ"
   },
   "source": [
    "Next step is to create a function we will use to create the connection to our server."
   ]
  },
  {
   "cell_type": "code",
   "execution_count": 0,
   "metadata": {
    "colab": {},
    "colab_type": "code",
    "id": "yI5djpwpsjcY"
   },
   "outputs": [],
   "source": [
    "def connect():\n",
    "    try:\n",
    "        conn = mysql.connector.connect(host='your_host',\n",
    "                                       port='your_port',\n",
    "                                       database='your_db',\n",
    "                                       user='your_user',\n",
    "                                       password='your_password' )\n",
    "        if conn.is_connected():\n",
    "            print('Connected to MySQL database')\n",
    "            return conn\n",
    "\n",
    "    except Error as e:\n",
    "        print(e)\n"
   ]
  },
  {
   "cell_type": "markdown",
   "metadata": {
    "colab_type": "text",
    "id": "hns1-W9txd2f"
   },
   "source": [
    "Now that our connection is set and ready to be used, we will proceed calling our function and running our query to select the ips we want the latitude and longitud for."
   ]
  },
  {
   "cell_type": "code",
   "execution_count": 0,
   "metadata": {
    "colab": {},
    "colab_type": "code",
    "id": "JZuJHgXwzRik"
   },
   "outputs": [],
   "source": [
    "connection = connect()\n",
    "\n",
    "cursor = connection.cursor(buffered=True)\n",
    "\n",
    "sql_select_ip = \"\"\"\n",
    "                    your_query_here\n",
    "                \"\"\"\n",
    "\n",
    "cursor.execute(sql_select_ip)\n",
    "assert isinstance(cursor.fetchall, object)"
   ]
  },
  {
   "cell_type": "markdown",
   "metadata": {
    "colab_type": "text",
    "id": "LW8Quz8T368b"
   },
   "source": [
    "You may ask yourself what do we do now with  the data queried above. Why don't we just put it into a good old pandas' dataframe?"
   ]
  },
  {
   "cell_type": "code",
   "execution_count": 0,
   "metadata": {
    "colab": {},
    "colab_type": "code",
    "id": "R6CZ10-DEAMR"
   },
   "outputs": [],
   "source": [
    "!pip install pandas"
   ]
  },
  {
   "cell_type": "code",
   "execution_count": 0,
   "metadata": {
    "colab": {},
    "colab_type": "code",
    "id": "9zSqs5Vn4NmE"
   },
   "outputs": [],
   "source": [
    "import pandas as pd\n",
    "\n",
    "df = pd.read_sql_query(sql_select_ip, connection)"
   ]
  },
  {
   "cell_type": "markdown",
   "metadata": {
    "colab_type": "text",
    "id": "AxJ8pdDW4Zlq"
   },
   "source": [
    "To continue we will create a field in the dataframe which we will use for our call the website where we will get the results from.\n",
    "This website will be http://ip-api.com. This website allows us to choose between a nice amount of data related to our ip. To choose we can go to https://ip-api.com/docs/api:json and check the data needed. They will then provide us with a url that we can set up to create our calls.\n",
    "\n",
    "We will use the following:\n",
    "\n",
    "```\n",
    "'http://ip-api.com/json/' + ip + '?fields=status,city,lat,lon'\n",
    "```\n",
    "\n",
    "\n"
   ]
  },
  {
   "cell_type": "code",
   "execution_count": 0,
   "metadata": {
    "colab": {},
    "colab_type": "code",
    "id": "_NSljiiw5KbT"
   },
   "outputs": [],
   "source": [
    "df['ip_api'] = ['http://ip-api.com/json/' + i for i in df['ipclient'] + '?fields=status,city,lat,lon']"
   ]
  },
  {
   "cell_type": "markdown",
   "metadata": {
    "colab_type": "text",
    "id": "BrDMuz0C5LKS"
   },
   "source": [
    "This website will provide a JSON with the answer to our request. With this JSON we will populate a list previously set as empty to make sure no data is inside.\n",
    "\n",
    "Also, let's set a counter to 0 for the next step."
   ]
  },
  {
   "cell_type": "code",
   "execution_count": 0,
   "metadata": {
    "colab": {},
    "colab_type": "code",
    "id": "oJgVw-xi-E4t"
   },
   "outputs": [],
   "source": [
    "json_ip = []\n",
    "\n",
    "count_i = 0 "
   ]
  },
  {
   "cell_type": "markdown",
   "metadata": {
    "colab_type": "text",
    "id": "f9HG-A3X-G2J"
   },
   "source": [
    "With all set we just need to create a loop where the calls to the website will be made from. For it we need a couple of libraries: tqdm and requests.\n",
    "\n",
    "**tqdm** is not essential to the result, but gives us a way to know the progress of the loop so we make sure it is actually running.\n",
    "\n",
    "**requests** is indeed the essential part of the loop. It will call the website via api and retrieve the JSON required by us.\n",
    "\n",
    "There is an inconvenient with ip_api.com. For the free use of it, they only allow us to make 45 calls per minute, it is a bit crappy but understandable, in this capitalized world, most of us want (need) to monetize in some way our products.\n",
    "\n",
    "Now we now what do we use the counter for. Each call, the counter will sum up 1, and if we reach 40 we will wait 60 seconds. Easy."
   ]
  },
  {
   "cell_type": "code",
   "execution_count": 0,
   "metadata": {
    "colab": {},
    "colab_type": "code",
    "id": "F7cRTDt0D1gu"
   },
   "outputs": [],
   "source": [
    "!pip install tqdm\n",
    "!pip install requests\n",
    "!pip install time"
   ]
  },
  {
   "cell_type": "code",
   "execution_count": 0,
   "metadata": {
    "colab": {},
    "colab_type": "code",
    "id": "060bFIukszrf"
   },
   "outputs": [],
   "source": [
    "import tqdm\n",
    "import requests\n",
    "import time\n",
    "\n",
    "for url in tqdm(df.ip_api, leave=False):\n",
    "    request = requests.get(url)\n",
    "    json_ip.append(request.content)\n",
    "    count_i += 1\n",
    "    if count_i == 40:\n",
    "        time.sleep(60)\n",
    "        count_i = 0"
   ]
  },
  {
   "cell_type": "markdown",
   "metadata": {
    "colab_type": "text",
    "id": "9AYw8nVGB-4h"
   },
   "source": [
    "Now that we have everything we need, we can store the resulting data in a csv in case we have some issue and we want to study it."
   ]
  },
  {
   "cell_type": "code",
   "execution_count": 0,
   "metadata": {
    "colab": {},
    "colab_type": "code",
    "id": "g2Cm3oGDF2jR"
   },
   "outputs": [],
   "source": [
    "!pip install csv"
   ]
  },
  {
   "cell_type": "code",
   "execution_count": 0,
   "metadata": {
    "colab": {},
    "colab_type": "code",
    "id": "KKKAPc-GCAR2"
   },
   "outputs": [],
   "source": [
    "import csv\n",
    "\n",
    "with open('json_ip.csv', 'w') as file:\n",
    "    wr = csv.writer(file)\n",
    "    wr.writerow(json_ip)\n",
    "\n",
    "with open('json_ip.csv', 'r') as f:\n",
    "    reader = csv.reader(f, delimiter=',')\n",
    "    for i in reader:\n",
    "        json_ip = i\n",
    "        break"
   ]
  },
  {
   "cell_type": "markdown",
   "metadata": {
    "colab_type": "text",
    "id": "8N8IK81rGDHw"
   },
   "source": [
    "Let's now put all our data together creating a column in our dataframe to fill with the json's resulting of above."
   ]
  },
  {
   "cell_type": "code",
   "execution_count": 0,
   "metadata": {
    "colab": {},
    "colab_type": "code",
    "id": "iIcthOFgGC7B"
   },
   "outputs": [],
   "source": [
    "df['json_ip'] = json_ip"
   ]
  },
  {
   "cell_type": "markdown",
   "metadata": {
    "colab_type": "text",
    "id": "KaN_igp6Gs5A"
   },
   "source": [
    "We are almost there. \n",
    "\n",
    "We now do some good use of pandas and python's list comprehension. What we want now is to extract the data needed from the JSON file, and with some splitting we can get a great result. We need to make sure we store the results in our dataframe. For this case, we just want the latitude, longitud and the city of the ips we have."
   ]
  },
  {
   "cell_type": "code",
   "execution_count": 0,
   "metadata": {
    "colab": {},
    "colab_type": "code",
    "id": "SYLRS2FPGtMv"
   },
   "outputs": [],
   "source": [
    "df['city'] = [result_ip.split('\"city\":\"')[1].split('\",\"lat\"')[0] for result_ip in df['json_ip']]\n",
    "df['lat'] = [float(result_ip.split(',\"lat\":')[1].split(',\"lon\":')[0]) for result_ip in df['json_ip']]\n",
    "df['lon'] = [float(result_ip.split(',\"lon\":')[1].split(\"}'\")[0]) for result_ip in df['json_ip']]"
   ]
  },
  {
   "cell_type": "markdown",
   "metadata": {
    "colab_type": "text",
    "id": "trBXasqpH-T7"
   },
   "source": [
    "All we are missing right now is how and where we store our resulting data frame.\n",
    "\n",
    "How: we don't need all the columns created along the exercise, so we do some slicing having a more compact and readable dataframe.\n",
    "\n",
    "Where: with a simple csv in a folder so we can manipulate it if needed."
   ]
  },
  {
   "cell_type": "code",
   "execution_count": 0,
   "metadata": {
    "colab": {},
    "colab_type": "code",
    "id": "rtjcASbwH-cA"
   },
   "outputs": [],
   "source": [
    "df = df[['ipclient', 'city', 'lat', 'lon']]\n",
    "\n",
    "df.to_csv('your_file.csv', header=True, sep=';', encoding='utf-8') #make sure you end the files name with .csv"
   ]
  }
 ],
 "metadata": {
  "colab": {
   "name": "web_scrapping_for_lat_and_lon.ipynb",
   "provenance": []
  },
  "kernelspec": {
   "display_name": "Python 3",
   "language": "python",
   "name": "python3"
  },
  "language_info": {
   "codemirror_mode": {
    "name": "ipython",
    "version": 3
   },
   "file_extension": ".py",
   "mimetype": "text/x-python",
   "name": "python",
   "nbconvert_exporter": "python",
   "pygments_lexer": "ipython3",
   "version": "3.7.4"
  }
 },
 "nbformat": 4,
 "nbformat_minor": 1
}
